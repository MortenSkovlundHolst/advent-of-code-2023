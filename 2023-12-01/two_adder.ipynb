{
 "cells": [
  {
   "cell_type": "markdown",
   "metadata": {},
   "source": [
    "# Part one"
   ]
  },
  {
   "cell_type": "code",
   "execution_count": null,
   "metadata": {},
   "outputs": [],
   "source": [
    "# imports:\n",
    "import numpy as np \n",
    "import regex as re\n",
    "\n",
    "# loading in the data from the input file:\n",
    "data = np.loadtxt(\"input.txt\", dtype=str)\n",
    "len_data = len(data)\n",
    "\n",
    "# regex that finds every one digit number in a string:\n",
    "regex_str_all_digits = r'\\d{1}'\n",
    "\n",
    "# list to store matches:\n",
    "match = []\n",
    "\n",
    "# running match on each line of data to get every one digit number:\n",
    "for i in range(len_data):\n",
    "    match.append( re.findall(regex_str_all_digits, data[i]) )\n",
    "\n",
    "# lists for first and last digits:\n",
    "first_list = []\n",
    "last_list = []\n",
    "\n",
    "# We can get two different situations:\n",
    "# 1. only one digit (the length of the match is 1), \n",
    "#    so we append the same digit to both lists, \n",
    "#    since it is both the first and last digit \n",
    "#\n",
    "# 2. more than one digit (first and last are different),\n",
    "#    so we append the first and last digits to their respective lists\n",
    "\n",
    "for i in range(len(match)):\n",
    "   if len(match[i]) == 1:\n",
    "      first_list.append( match[i][0]) # first digit appended\n",
    "      last_list.append( match[i][0]) # last digit\n",
    "\n",
    "   else:   \n",
    "      first_list.append( match[i][0]) # first digit appended\n",
    "      last_list.append( match[i][-1]) # last digit appended\n",
    "\n",
    "print(\"length of first_list: \", len(first_list))\n",
    "print(\"length of last_list: \", len(last_list))\n",
    "\n",
    "# adding strings:\n",
    "\n",
    "# list to store the added strings:\n",
    "two_digit_list = []\n",
    "\n",
    "# for storing the result:\n",
    "res = 0\n",
    "\n",
    "# adding strings and converting to numpy array, then adding to the result counter:\n",
    "for i in range(len(match)):\n",
    "   two_digit_list.append(np.array( first_list[i] + last_list[i] ) )\n",
    "   res += int(two_digit_list[i])\n",
    "\n",
    "print(\"result: \", res)\n"
   ]
  }
 ],
 "metadata": {
  "kernelspec": {
   "display_name": "base",
   "language": "python",
   "name": "python3"
  },
  "language_info": {
   "codemirror_mode": {
    "name": "ipython",
    "version": 3
   },
   "file_extension": ".py",
   "mimetype": "text/x-python",
   "name": "python",
   "nbconvert_exporter": "python",
   "pygments_lexer": "ipython3",
   "version": "3.11.4"
  }
 },
 "nbformat": 4,
 "nbformat_minor": 2
}
